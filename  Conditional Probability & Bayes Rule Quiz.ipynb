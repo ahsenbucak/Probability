{
 "cells": [
  {
   "cell_type": "markdown",
   "id": "693e9635",
   "metadata": {},
   "source": [
    "# Conditional Probability & Bayes Rule Quiz\n",
    "In the previous section, you found the following proportions from the cancer results dataset.\n",
    "\n",
    "Patients with cancer: 0.105\n",
    "Patients without cancer: 0.895\n",
    "Patients with cancer who tested positive: 0.905\n",
    "Patients with cancer who tested negative: 0.095\n",
    "Patients without cancer who tested positive: 0.204\n",
    "Patients without cancer who tested negative: 0.796\n",
    "Based on the above proportions observed in the data, we can assume the following probabilities.\n",
    "\n",
    "Probability\tMeaning\n",
    "P(cancer) = 0.105\tProbability a patient has cancer\n",
    "P(~cancer) = 0.895\tProbability a patient does not have cancer\n",
    "P(positive|cancer) = 0.905\tProbability a patient with cancer tests positive\n",
    "P(negative|cancer) = 0.095\tProbability a patient with cancer tests negative\n",
    "P(positive|~cancer) = 0.204\tProbability a patient without cancer tests positive\n",
    "P(negative|~cancer) = 0.796\tProbability a patient without cancer tests negative\n",
    "Quiz Questions\n",
    "Use the probabilities given above and Bayes rule to compute the following probabilities.\n",
    "\n",
    "Probability a patient who tested positive has cancer, or P(cancer|positive)\n",
    "Probability a patient who tested positive doesn't have cancer, or P(~cancer|positive)\n",
    "Probability a patient who tested negative has cancer, or P(cancer|negative)\n",
    "Probability a patient who tested negative doesn't have cancer, or P(~cancer|negative)\n",
    "Then, use the Jupyter notebook to compare them to true proportions in the dataset.\n",
    "\n",
    "QUIZ QUESTION\n",
    "\n",
    "Use the probabilities given above and Bayes rule to compute the following probabilities.\n",
    "\n",
    "1-Probability a patient who tested positive has cancer, or P(cancer|positive)\n",
    "2-Probability a patient who tested positive doesn't have cancer, or P(~cancer|positive)\n",
    "3-Probability a patient who tested negative has cancer, or P(cancer|negative)\n",
    "4-Probability a patient who tested negative doesn't have cancer, or P(~cancer|negative)\n",
    "5-Then, use the Jupyter notebook to compare them to true proportions in the dataset."
   ]
  },
  {
   "cell_type": "code",
   "execution_count": null,
   "id": "2bd87827",
   "metadata": {},
   "outputs": [],
   "source": []
  }
 ],
 "metadata": {
  "kernelspec": {
   "display_name": "Python 3 (ipykernel)",
   "language": "python",
   "name": "python3"
  },
  "language_info": {
   "codemirror_mode": {
    "name": "ipython",
    "version": 3
   },
   "file_extension": ".py",
   "mimetype": "text/x-python",
   "name": "python",
   "nbconvert_exporter": "python",
   "pygments_lexer": "ipython3",
   "version": "3.9.13"
  }
 },
 "nbformat": 4,
 "nbformat_minor": 5
}
